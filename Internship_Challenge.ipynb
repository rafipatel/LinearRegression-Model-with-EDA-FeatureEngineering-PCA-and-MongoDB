{
  "nbformat": 4,
  "nbformat_minor": 0,
  "metadata": {
    "colab": {
      "name": "Assignment.ipynb",
      "provenance": []
    },
    "kernelspec": {
      "name": "python3",
      "display_name": "Python 3"
    },
    "language_info": {
      "name": "python"
    },
    "accelerator": "GPU",
    "gpuClass": "standard"
  },
  "cells": [
    {
      "cell_type": "code",
      "source": [
        "!pip install feature_engine"
      ],
      "metadata": {
        "colab": {
          "base_uri": "https://localhost:8080/"
        },
        "id": "VxTti3D7w1jC",
        "outputId": "9b312ce9-8019-4f71-801e-433ed4dcbd89"
      },
      "execution_count": 486,
      "outputs": [
        {
          "output_type": "stream",
          "name": "stdout",
          "text": [
            "Looking in indexes: https://pypi.org/simple, https://us-python.pkg.dev/colab-wheels/public/simple/\n",
            "Requirement already satisfied: feature_engine in /usr/local/lib/python3.7/dist-packages (1.4.0)\n",
            "Requirement already satisfied: numpy>=1.18.2 in /usr/local/lib/python3.7/dist-packages (from feature_engine) (1.21.6)\n",
            "Requirement already satisfied: pandas>=1.0.3 in /usr/local/lib/python3.7/dist-packages (from feature_engine) (1.3.5)\n",
            "Requirement already satisfied: scikit-learn>=1.0.0 in /usr/local/lib/python3.7/dist-packages (from feature_engine) (1.0.2)\n",
            "Requirement already satisfied: statsmodels>=0.11.1 in /usr/local/lib/python3.7/dist-packages (from feature_engine) (0.13.2)\n",
            "Requirement already satisfied: scipy>=1.4.1 in /usr/local/lib/python3.7/dist-packages (from feature_engine) (1.7.3)\n",
            "Requirement already satisfied: pytz>=2017.3 in /usr/local/lib/python3.7/dist-packages (from pandas>=1.0.3->feature_engine) (2022.1)\n",
            "Requirement already satisfied: python-dateutil>=2.7.3 in /usr/local/lib/python3.7/dist-packages (from pandas>=1.0.3->feature_engine) (2.8.2)\n",
            "Requirement already satisfied: six>=1.5 in /usr/local/lib/python3.7/dist-packages (from python-dateutil>=2.7.3->pandas>=1.0.3->feature_engine) (1.15.0)\n",
            "Requirement already satisfied: joblib>=0.11 in /usr/local/lib/python3.7/dist-packages (from scikit-learn>=1.0.0->feature_engine) (1.1.0)\n",
            "Requirement already satisfied: threadpoolctl>=2.0.0 in /usr/local/lib/python3.7/dist-packages (from scikit-learn>=1.0.0->feature_engine) (3.1.0)\n",
            "Requirement already satisfied: patsy>=0.5.2 in /usr/local/lib/python3.7/dist-packages (from statsmodels>=0.11.1->feature_engine) (0.5.2)\n",
            "Requirement already satisfied: packaging>=21.3 in /usr/local/lib/python3.7/dist-packages (from statsmodels>=0.11.1->feature_engine) (21.3)\n",
            "Requirement already satisfied: pyparsing!=3.0.5,>=2.0.2 in /usr/local/lib/python3.7/dist-packages (from packaging>=21.3->statsmodels>=0.11.1->feature_engine) (3.0.9)\n"
          ]
        }
      ]
    },
    {
      "cell_type": "markdown",
      "source": [
        "##Importing dependencies\n",
        "\n"
      ],
      "metadata": {
        "id": "hAzOzERLorUo"
      }
    },
    {
      "cell_type": "code",
      "source": [
        "import pandas as pd\n",
        "from sklearn.model_selection import train_test_split\n",
        "from sklearn.linear_model import LinearRegression\n",
        "from feature_engine.selection import RecursiveFeatureElimination\n",
        "import pickle"
      ],
      "metadata": {
        "id": "Upps6BqBo0dx"
      },
      "execution_count": 487,
      "outputs": []
    },
    {
      "cell_type": "markdown",
      "source": [
        "##Exploratory Data Analysis"
      ],
      "metadata": {
        "id": "XuuuXaYurY8_"
      }
    },
    {
      "cell_type": "code",
      "source": [
        "#loading and reading csv file using pandas, which converts it to a Data Frame\n",
        "df = pd.read_csv(\"/content/1.csv\")\n",
        "#converting to pandas dataframe for more operations\n"
      ],
      "metadata": {
        "id": "7IIHagmuCYO-"
      },
      "execution_count": 488,
      "outputs": []
    },
    {
      "cell_type": "code",
      "source": [
        "#to show Some information about the dataset\n",
        "df.info()"
      ],
      "metadata": {
        "colab": {
          "base_uri": "https://localhost:8080/"
        },
        "id": "yef6VF7LrjkP",
        "outputId": "4ae2eafb-172a-4340-d3b1-69cf3cb7af4e"
      },
      "execution_count": 449,
      "outputs": [
        {
          "output_type": "stream",
          "name": "stdout",
          "text": [
            "<class 'pandas.core.frame.DataFrame'>\n",
            "RangeIndex: 10000 entries, 0 to 9999\n",
            "Data columns (total 26 columns):\n",
            " #   Column                                              Non-Null Count  Dtype  \n",
            "---  ------                                              --------------  -----  \n",
            " 0   Auxiliary Boilers A/B Feed Water Header Pressure 2  10000 non-null  float64\n",
            " 1   Auxiliary Boilers Feed Water Header Pressure        10000 non-null  float64\n",
            " 2   Heat Recovery System Header Mass Flow               10000 non-null  float64\n",
            " 3   Heat Recovery System Header Mass Flow.1             10000 non-null  float64\n",
            " 4   Heat Recovery System Header Pressure                10000 non-null  float64\n",
            " 5   Heat Recovery System Header Pressure.1              10000 non-null  float64\n",
            " 6   Lube Oil Cooler Outlet Temperature                  10000 non-null  float64\n",
            " 7   Lube Oil Tank Temperature                           10000 non-null  float64\n",
            " 8   Motor Current Phase A                               10000 non-null  float64\n",
            " 9   Motor Current Phase B                               10000 non-null  float64\n",
            " 10  Motor Current Phase C                               10000 non-null  float64\n",
            " 11  Motor Input Power                                   0 non-null      float64\n",
            " 12  Motor Power Factor                                  0 non-null      float64\n",
            " 13  Motor Voltage                                       10000 non-null  float64\n",
            " 14  Pump Discharge Pressure                             10000 non-null  float64\n",
            " 15  Pump Discharge Volumetric Flow                      10000 non-null  float64\n",
            " 16  Pump Journal 1 Bearing Temperature                  10000 non-null  float64\n",
            " 17  Pump Journal 2 Bearing Temperature                  10000 non-null  float64\n",
            " 18  Pump Shaft Speed                                    10000 non-null  float64\n",
            " 19  Pump Suction Pressure 1                             10000 non-null  float64\n",
            " 20  Pump Suction Pressure 2                             10000 non-null  float64\n",
            " 21  Pump Suction Strainer Differential Pressure         10000 non-null  float64\n",
            " 22  Pump Suction Temperature                            10000 non-null  float64\n",
            " 23  Pump Thrust Bearing Temperature 1                   10000 non-null  float64\n",
            " 24  Pump Thrust Bearing Temperature 2                   10000 non-null  float64\n",
            " 25  Pump Radial Bearing Vibration                       10000 non-null  float64\n",
            "dtypes: float64(26)\n",
            "memory usage: 2.0 MB\n"
          ]
        }
      ]
    },
    {
      "cell_type": "code",
      "source": [
        "df.head()"
      ],
      "metadata": {
        "colab": {
          "base_uri": "https://localhost:8080/",
          "height": 386
        },
        "id": "A6ctjBC5rgYz",
        "outputId": "cd4fd069-2861-4f79-ec19-68e96fad7f1e"
      },
      "execution_count": 450,
      "outputs": [
        {
          "output_type": "execute_result",
          "data": {
            "text/plain": [
              "   Auxiliary Boilers A/B Feed Water Header Pressure 2  \\\n",
              "0                                        1305.491089    \n",
              "1                                        1301.227783    \n",
              "2                                        1296.178589    \n",
              "3                                        1297.628296    \n",
              "4                                        1299.078003    \n",
              "\n",
              "   Auxiliary Boilers Feed Water Header Pressure  \\\n",
              "0                                   1305.893799   \n",
              "1                                   1299.925171   \n",
              "2                                   1294.646606   \n",
              "3                                   1299.988770   \n",
              "4                                   1300.749023   \n",
              "\n",
              "   Heat Recovery System Header Mass Flow  \\\n",
              "0                            301258.6563   \n",
              "1                            303027.7500   \n",
              "2                            301878.9688   \n",
              "3                            302023.0625   \n",
              "4                            301972.0625   \n",
              "\n",
              "   Heat Recovery System Header Mass Flow.1  \\\n",
              "0                              304479.0625   \n",
              "1                              303782.2813   \n",
              "2                              303518.4375   \n",
              "3                              303576.3750   \n",
              "4                              303999.5313   \n",
              "\n",
              "   Heat Recovery System Header Pressure  \\\n",
              "0                           1779.438599   \n",
              "1                           1779.364014   \n",
              "2                           1779.289551   \n",
              "3                           1779.214966   \n",
              "4                           1779.140381   \n",
              "\n",
              "   Heat Recovery System Header Pressure.1  Lube Oil Cooler Outlet Temperature  \\\n",
              "0                             1782.647461                           71.223015   \n",
              "1                             1782.624756                           71.215706   \n",
              "2                             1782.602173                           71.208389   \n",
              "3                             1782.579468                           71.201080   \n",
              "4                             1782.556885                           71.193764   \n",
              "\n",
              "   Lube Oil Tank Temperature  Motor Current Phase A  Motor Current Phase B  \\\n",
              "0                  76.965309             145.308487             145.308487   \n",
              "1                  76.948776             145.000000             146.000000   \n",
              "2                  76.932243             146.306839             146.613678   \n",
              "3                  76.912827             146.000000             146.301178   \n",
              "4                  76.892960             146.305389             147.000000   \n",
              "\n",
              "   ...  Pump Journal 1 Bearing Temperature  \\\n",
              "0  ...                          137.135651   \n",
              "1  ...                          137.133484   \n",
              "2  ...                          137.131317   \n",
              "3  ...                          137.129150   \n",
              "4  ...                          137.126968   \n",
              "\n",
              "   Pump Journal 2 Bearing Temperature  Pump Shaft Speed  \\\n",
              "0                          144.300110       3589.281494   \n",
              "1                          144.299057       3589.281982   \n",
              "2                          144.298004       3589.282715   \n",
              "3                          144.296936       3589.283203   \n",
              "4                          144.295883       3589.283691   \n",
              "\n",
              "   Pump Suction Pressure 1  Pump Suction Pressure 2  \\\n",
              "0                24.951010                16.886732   \n",
              "1                25.042177                16.886147   \n",
              "2                25.012571                16.885561   \n",
              "3                25.009590                16.884975   \n",
              "4                25.006611                16.884392   \n",
              "\n",
              "   Pump Suction Strainer Differential Pressure  Pump Suction Temperature  \\\n",
              "0                                     0.272720                226.743881   \n",
              "1                                     0.272987                226.743118   \n",
              "2                                     0.273254                226.742371   \n",
              "3                                     0.273521                226.741623   \n",
              "4                                     0.273788                226.740860   \n",
              "\n",
              "   Pump Thrust Bearing Temperature 1  Pump Thrust Bearing Temperature 2  \\\n",
              "0                          98.050789                          86.571556   \n",
              "1                          98.054756                          86.565018   \n",
              "2                          98.058716                          86.558487   \n",
              "3                          98.062683                          86.551956   \n",
              "4                          98.066650                          86.545425   \n",
              "\n",
              "   Pump Radial Bearing Vibration  \n",
              "0                       9.661202  \n",
              "1                       9.655985  \n",
              "2                       9.650768  \n",
              "3                       9.645551  \n",
              "4                       9.642216  \n",
              "\n",
              "[5 rows x 26 columns]"
            ],
            "text/html": [
              "\n",
              "  <div id=\"df-c6bb4a64-f90b-42a8-9ba6-e88da9501b7f\">\n",
              "    <div class=\"colab-df-container\">\n",
              "      <div>\n",
              "<style scoped>\n",
              "    .dataframe tbody tr th:only-of-type {\n",
              "        vertical-align: middle;\n",
              "    }\n",
              "\n",
              "    .dataframe tbody tr th {\n",
              "        vertical-align: top;\n",
              "    }\n",
              "\n",
              "    .dataframe thead th {\n",
              "        text-align: right;\n",
              "    }\n",
              "</style>\n",
              "<table border=\"1\" class=\"dataframe\">\n",
              "  <thead>\n",
              "    <tr style=\"text-align: right;\">\n",
              "      <th></th>\n",
              "      <th>Auxiliary Boilers A/B Feed Water Header Pressure 2</th>\n",
              "      <th>Auxiliary Boilers Feed Water Header Pressure</th>\n",
              "      <th>Heat Recovery System Header Mass Flow</th>\n",
              "      <th>Heat Recovery System Header Mass Flow.1</th>\n",
              "      <th>Heat Recovery System Header Pressure</th>\n",
              "      <th>Heat Recovery System Header Pressure.1</th>\n",
              "      <th>Lube Oil Cooler Outlet Temperature</th>\n",
              "      <th>Lube Oil Tank Temperature</th>\n",
              "      <th>Motor Current Phase A</th>\n",
              "      <th>Motor Current Phase B</th>\n",
              "      <th>...</th>\n",
              "      <th>Pump Journal 1 Bearing Temperature</th>\n",
              "      <th>Pump Journal 2 Bearing Temperature</th>\n",
              "      <th>Pump Shaft Speed</th>\n",
              "      <th>Pump Suction Pressure 1</th>\n",
              "      <th>Pump Suction Pressure 2</th>\n",
              "      <th>Pump Suction Strainer Differential Pressure</th>\n",
              "      <th>Pump Suction Temperature</th>\n",
              "      <th>Pump Thrust Bearing Temperature 1</th>\n",
              "      <th>Pump Thrust Bearing Temperature 2</th>\n",
              "      <th>Pump Radial Bearing Vibration</th>\n",
              "    </tr>\n",
              "  </thead>\n",
              "  <tbody>\n",
              "    <tr>\n",
              "      <th>0</th>\n",
              "      <td>1305.491089</td>\n",
              "      <td>1305.893799</td>\n",
              "      <td>301258.6563</td>\n",
              "      <td>304479.0625</td>\n",
              "      <td>1779.438599</td>\n",
              "      <td>1782.647461</td>\n",
              "      <td>71.223015</td>\n",
              "      <td>76.965309</td>\n",
              "      <td>145.308487</td>\n",
              "      <td>145.308487</td>\n",
              "      <td>...</td>\n",
              "      <td>137.135651</td>\n",
              "      <td>144.300110</td>\n",
              "      <td>3589.281494</td>\n",
              "      <td>24.951010</td>\n",
              "      <td>16.886732</td>\n",
              "      <td>0.272720</td>\n",
              "      <td>226.743881</td>\n",
              "      <td>98.050789</td>\n",
              "      <td>86.571556</td>\n",
              "      <td>9.661202</td>\n",
              "    </tr>\n",
              "    <tr>\n",
              "      <th>1</th>\n",
              "      <td>1301.227783</td>\n",
              "      <td>1299.925171</td>\n",
              "      <td>303027.7500</td>\n",
              "      <td>303782.2813</td>\n",
              "      <td>1779.364014</td>\n",
              "      <td>1782.624756</td>\n",
              "      <td>71.215706</td>\n",
              "      <td>76.948776</td>\n",
              "      <td>145.000000</td>\n",
              "      <td>146.000000</td>\n",
              "      <td>...</td>\n",
              "      <td>137.133484</td>\n",
              "      <td>144.299057</td>\n",
              "      <td>3589.281982</td>\n",
              "      <td>25.042177</td>\n",
              "      <td>16.886147</td>\n",
              "      <td>0.272987</td>\n",
              "      <td>226.743118</td>\n",
              "      <td>98.054756</td>\n",
              "      <td>86.565018</td>\n",
              "      <td>9.655985</td>\n",
              "    </tr>\n",
              "    <tr>\n",
              "      <th>2</th>\n",
              "      <td>1296.178589</td>\n",
              "      <td>1294.646606</td>\n",
              "      <td>301878.9688</td>\n",
              "      <td>303518.4375</td>\n",
              "      <td>1779.289551</td>\n",
              "      <td>1782.602173</td>\n",
              "      <td>71.208389</td>\n",
              "      <td>76.932243</td>\n",
              "      <td>146.306839</td>\n",
              "      <td>146.613678</td>\n",
              "      <td>...</td>\n",
              "      <td>137.131317</td>\n",
              "      <td>144.298004</td>\n",
              "      <td>3589.282715</td>\n",
              "      <td>25.012571</td>\n",
              "      <td>16.885561</td>\n",
              "      <td>0.273254</td>\n",
              "      <td>226.742371</td>\n",
              "      <td>98.058716</td>\n",
              "      <td>86.558487</td>\n",
              "      <td>9.650768</td>\n",
              "    </tr>\n",
              "    <tr>\n",
              "      <th>3</th>\n",
              "      <td>1297.628296</td>\n",
              "      <td>1299.988770</td>\n",
              "      <td>302023.0625</td>\n",
              "      <td>303576.3750</td>\n",
              "      <td>1779.214966</td>\n",
              "      <td>1782.579468</td>\n",
              "      <td>71.201080</td>\n",
              "      <td>76.912827</td>\n",
              "      <td>146.000000</td>\n",
              "      <td>146.301178</td>\n",
              "      <td>...</td>\n",
              "      <td>137.129150</td>\n",
              "      <td>144.296936</td>\n",
              "      <td>3589.283203</td>\n",
              "      <td>25.009590</td>\n",
              "      <td>16.884975</td>\n",
              "      <td>0.273521</td>\n",
              "      <td>226.741623</td>\n",
              "      <td>98.062683</td>\n",
              "      <td>86.551956</td>\n",
              "      <td>9.645551</td>\n",
              "    </tr>\n",
              "    <tr>\n",
              "      <th>4</th>\n",
              "      <td>1299.078003</td>\n",
              "      <td>1300.749023</td>\n",
              "      <td>301972.0625</td>\n",
              "      <td>303999.5313</td>\n",
              "      <td>1779.140381</td>\n",
              "      <td>1782.556885</td>\n",
              "      <td>71.193764</td>\n",
              "      <td>76.892960</td>\n",
              "      <td>146.305389</td>\n",
              "      <td>147.000000</td>\n",
              "      <td>...</td>\n",
              "      <td>137.126968</td>\n",
              "      <td>144.295883</td>\n",
              "      <td>3589.283691</td>\n",
              "      <td>25.006611</td>\n",
              "      <td>16.884392</td>\n",
              "      <td>0.273788</td>\n",
              "      <td>226.740860</td>\n",
              "      <td>98.066650</td>\n",
              "      <td>86.545425</td>\n",
              "      <td>9.642216</td>\n",
              "    </tr>\n",
              "  </tbody>\n",
              "</table>\n",
              "<p>5 rows × 26 columns</p>\n",
              "</div>\n",
              "      <button class=\"colab-df-convert\" onclick=\"convertToInteractive('df-c6bb4a64-f90b-42a8-9ba6-e88da9501b7f')\"\n",
              "              title=\"Convert this dataframe to an interactive table.\"\n",
              "              style=\"display:none;\">\n",
              "        \n",
              "  <svg xmlns=\"http://www.w3.org/2000/svg\" height=\"24px\"viewBox=\"0 0 24 24\"\n",
              "       width=\"24px\">\n",
              "    <path d=\"M0 0h24v24H0V0z\" fill=\"none\"/>\n",
              "    <path d=\"M18.56 5.44l.94 2.06.94-2.06 2.06-.94-2.06-.94-.94-2.06-.94 2.06-2.06.94zm-11 1L8.5 8.5l.94-2.06 2.06-.94-2.06-.94L8.5 2.5l-.94 2.06-2.06.94zm10 10l.94 2.06.94-2.06 2.06-.94-2.06-.94-.94-2.06-.94 2.06-2.06.94z\"/><path d=\"M17.41 7.96l-1.37-1.37c-.4-.4-.92-.59-1.43-.59-.52 0-1.04.2-1.43.59L10.3 9.45l-7.72 7.72c-.78.78-.78 2.05 0 2.83L4 21.41c.39.39.9.59 1.41.59.51 0 1.02-.2 1.41-.59l7.78-7.78 2.81-2.81c.8-.78.8-2.07 0-2.86zM5.41 20L4 18.59l7.72-7.72 1.47 1.35L5.41 20z\"/>\n",
              "  </svg>\n",
              "      </button>\n",
              "      \n",
              "  <style>\n",
              "    .colab-df-container {\n",
              "      display:flex;\n",
              "      flex-wrap:wrap;\n",
              "      gap: 12px;\n",
              "    }\n",
              "\n",
              "    .colab-df-convert {\n",
              "      background-color: #E8F0FE;\n",
              "      border: none;\n",
              "      border-radius: 50%;\n",
              "      cursor: pointer;\n",
              "      display: none;\n",
              "      fill: #1967D2;\n",
              "      height: 32px;\n",
              "      padding: 0 0 0 0;\n",
              "      width: 32px;\n",
              "    }\n",
              "\n",
              "    .colab-df-convert:hover {\n",
              "      background-color: #E2EBFA;\n",
              "      box-shadow: 0px 1px 2px rgba(60, 64, 67, 0.3), 0px 1px 3px 1px rgba(60, 64, 67, 0.15);\n",
              "      fill: #174EA6;\n",
              "    }\n",
              "\n",
              "    [theme=dark] .colab-df-convert {\n",
              "      background-color: #3B4455;\n",
              "      fill: #D2E3FC;\n",
              "    }\n",
              "\n",
              "    [theme=dark] .colab-df-convert:hover {\n",
              "      background-color: #434B5C;\n",
              "      box-shadow: 0px 1px 3px 1px rgba(0, 0, 0, 0.15);\n",
              "      filter: drop-shadow(0px 1px 2px rgba(0, 0, 0, 0.3));\n",
              "      fill: #FFFFFF;\n",
              "    }\n",
              "  </style>\n",
              "\n",
              "      <script>\n",
              "        const buttonEl =\n",
              "          document.querySelector('#df-c6bb4a64-f90b-42a8-9ba6-e88da9501b7f button.colab-df-convert');\n",
              "        buttonEl.style.display =\n",
              "          google.colab.kernel.accessAllowed ? 'block' : 'none';\n",
              "\n",
              "        async function convertToInteractive(key) {\n",
              "          const element = document.querySelector('#df-c6bb4a64-f90b-42a8-9ba6-e88da9501b7f');\n",
              "          const dataTable =\n",
              "            await google.colab.kernel.invokeFunction('convertToInteractive',\n",
              "                                                     [key], {});\n",
              "          if (!dataTable) return;\n",
              "\n",
              "          const docLinkHtml = 'Like what you see? Visit the ' +\n",
              "            '<a target=\"_blank\" href=https://colab.research.google.com/notebooks/data_table.ipynb>data table notebook</a>'\n",
              "            + ' to learn more about interactive tables.';\n",
              "          element.innerHTML = '';\n",
              "          dataTable['output_type'] = 'display_data';\n",
              "          await google.colab.output.renderOutput(dataTable, element);\n",
              "          const docLink = document.createElement('div');\n",
              "          docLink.innerHTML = docLinkHtml;\n",
              "          element.appendChild(docLink);\n",
              "        }\n",
              "      </script>\n",
              "    </div>\n",
              "  </div>\n",
              "  "
            ]
          },
          "metadata": {},
          "execution_count": 450
        }
      ]
    },
    {
      "cell_type": "code",
      "source": [
        "len(df)   "
      ],
      "metadata": {
        "colab": {
          "base_uri": "https://localhost:8080/"
        },
        "id": "S_fzUD1jLhpi",
        "outputId": "25dce205-a664-496a-cd1c-4e7798a449dd"
      },
      "execution_count": 451,
      "outputs": [
        {
          "output_type": "execute_result",
          "data": {
            "text/plain": [
              "10000"
            ]
          },
          "metadata": {},
          "execution_count": 451
        }
      ]
    },
    {
      "cell_type": "markdown",
      "source": [
        "###Dropping the column if they have NaN values more than 95%"
      ],
      "metadata": {
        "id": "X239o1UGujm5"
      }
    },
    {
      "cell_type": "code",
      "source": [
        "#checking for any column name with Nan Values\n",
        "[i for i in df.columns if df[i].isnull().any()]"
      ],
      "metadata": {
        "colab": {
          "base_uri": "https://localhost:8080/"
        },
        "id": "Rvuh5Y3eOfgq",
        "outputId": "875da043-3475-4876-d283-14880f534db3"
      },
      "execution_count": 489,
      "outputs": [
        {
          "output_type": "execute_result",
          "data": {
            "text/plain": [
              "['Motor Input Power', 'Motor Power Factor']"
            ]
          },
          "metadata": {},
          "execution_count": 489
        }
      ]
    },
    {
      "cell_type": "code",
      "source": [
        "\n",
        "# by using for loop\n",
        "\"\"\"for i in df.columns:\n",
        "  if df[i].isnull().sum() ==0.95*len(df):\n",
        "    df.drop(i, axis=1, inplace=True) \"\"\"\n",
        "#by using List Comprehension\n",
        "[(df.drop(i, axis=1, inplace=True)) for i in df.columns if df[i].isnull().sum() >0.95*len(df)]"
      ],
      "metadata": {
        "colab": {
          "base_uri": "https://localhost:8080/"
        },
        "id": "Ew4V5pu3FOlq",
        "outputId": "5a301367-435d-4a6f-dcdf-f4a385fe5540"
      },
      "execution_count": 490,
      "outputs": [
        {
          "output_type": "execute_result",
          "data": {
            "text/plain": [
              "[None, None]"
            ]
          },
          "metadata": {},
          "execution_count": 490
        }
      ]
    },
    {
      "cell_type": "code",
      "source": [
        "#2 columns dropped\n",
        "len(df.columns)"
      ],
      "metadata": {
        "colab": {
          "base_uri": "https://localhost:8080/"
        },
        "id": "xeM5bFkjOe6R",
        "outputId": "43c3db18-8bb2-4630-aa6f-0804ccefe3d2"
      },
      "execution_count": 491,
      "outputs": [
        {
          "output_type": "execute_result",
          "data": {
            "text/plain": [
              "24"
            ]
          },
          "metadata": {},
          "execution_count": 491
        }
      ]
    },
    {
      "cell_type": "markdown",
      "source": [
        "\n",
        "#Model Building"
      ],
      "metadata": {
        "id": "b8voAFCiWfjP"
      }
    },
    {
      "cell_type": "markdown",
      "source": [
        "Defining Predictor variable and target variable i.e input_features and target_feature"
      ],
      "metadata": {
        "id": "U5kO2k2puylV"
      }
    },
    {
      "cell_type": "code",
      "source": [
        "#Predictor features\n",
        "X = df.drop('Pump Radial Bearing Vibration',axis=1)\n",
        "#Feature to predict\n",
        "y = df['Pump Radial Bearing Vibration']"
      ],
      "metadata": {
        "id": "q59s1jaBXRQI"
      },
      "execution_count": 492,
      "outputs": []
    },
    {
      "cell_type": "markdown",
      "source": [
        "##Splitting the data into train and test sets"
      ],
      "metadata": {
        "id": "5RrowY_xrxWZ"
      }
    },
    {
      "cell_type": "code",
      "source": [
        "\n",
        "X_train, X_test, y_train, y_test = train_test_split(X,y, train_size=0.8)\n",
        "\n",
        "print(X_train.shape), print(y_train.shape)\n",
        "\n",
        "print(X_test.shape), print(y_test.shape)"
      ],
      "metadata": {
        "colab": {
          "base_uri": "https://localhost:8080/"
        },
        "id": "PrU8J9bxt1tT",
        "outputId": "3bcfbd94-7c13-4a9f-b229-4f0c55fc0ec0"
      },
      "execution_count": 493,
      "outputs": [
        {
          "output_type": "stream",
          "name": "stdout",
          "text": [
            "(8000, 23)\n",
            "(8000,)\n",
            "(2000, 23)\n",
            "(2000,)\n"
          ]
        },
        {
          "output_type": "execute_result",
          "data": {
            "text/plain": [
              "(None, None)"
            ]
          },
          "metadata": {},
          "execution_count": 493
        }
      ]
    },
    {
      "cell_type": "markdown",
      "source": [
        "Selecting and building with a basic model"
      ],
      "metadata": {
        "id": "GUvOJKI7sJpL"
      }
    },
    {
      "cell_type": "code",
      "source": [
        "model = LinearRegression()\n",
        "model.fit(X_train,y_train)\n",
        "score = model.score(X_train,y_train)\n",
        "\n",
        "# score returns the coefficient of determination of the prediction (i.e R²).\n",
        "score"
      ],
      "metadata": {
        "colab": {
          "base_uri": "https://localhost:8080/"
        },
        "id": "07z-xOeYHetd",
        "outputId": "a2c23313-0ce4-4398-ac7d-ba8ace40fc15"
      },
      "execution_count": 494,
      "outputs": [
        {
          "output_type": "execute_result",
          "data": {
            "text/plain": [
              "0.6526554413076371"
            ]
          },
          "metadata": {},
          "execution_count": 494
        }
      ]
    },
    {
      "cell_type": "markdown",
      "source": [
        "Making predictions on test set\n",
        "\n",
        "\n"
      ],
      "metadata": {
        "id": "_04MFzYltJbQ"
      }
    },
    {
      "cell_type": "code",
      "source": [
        "y_pred = model.predict(X_test)\n",
        "np.sqrt(mean_squared_error(y_test, y_pred))\n"
      ],
      "metadata": {
        "colab": {
          "base_uri": "https://localhost:8080/"
        },
        "id": "amcVSylmrrq_",
        "outputId": "f829a519-cf14-4b07-fefa-f6dabd903c90"
      },
      "execution_count": 495,
      "outputs": [
        {
          "output_type": "execute_result",
          "data": {
            "text/plain": [
              "0.1628656351046719"
            ]
          },
          "metadata": {},
          "execution_count": 495
        }
      ]
    },
    {
      "cell_type": "markdown",
      "source": [
        "##Feature Engineering and Building the model again"
      ],
      "metadata": {
        "id": "T4mEyo80bTF_"
      }
    },
    {
      "cell_type": "code",
      "source": [
        "df.columns"
      ],
      "metadata": {
        "colab": {
          "base_uri": "https://localhost:8080/"
        },
        "id": "xJtW4Pb6XFFO",
        "outputId": "aa1af03d-791a-47ca-ba1e-dd72917e2b6f"
      },
      "execution_count": 496,
      "outputs": [
        {
          "output_type": "execute_result",
          "data": {
            "text/plain": [
              "Index(['Auxiliary Boilers A/B Feed Water Header Pressure 2',\n",
              "       'Auxiliary Boilers Feed Water Header Pressure',\n",
              "       'Heat Recovery System Header Mass Flow',\n",
              "       'Heat Recovery System Header Mass Flow.1',\n",
              "       'Heat Recovery System Header Pressure',\n",
              "       'Heat Recovery System Header Pressure.1',\n",
              "       'Lube Oil Cooler Outlet Temperature', 'Lube Oil Tank Temperature',\n",
              "       'Motor Current Phase A', 'Motor Current Phase B',\n",
              "       'Motor Current Phase C', 'Motor Voltage', 'Pump Discharge Pressure',\n",
              "       'Pump Discharge Volumetric Flow', 'Pump Journal 1 Bearing Temperature',\n",
              "       'Pump Journal 2 Bearing Temperature', 'Pump Shaft Speed',\n",
              "       'Pump Suction Pressure 1', 'Pump Suction Pressure 2',\n",
              "       'Pump Suction Strainer Differential Pressure',\n",
              "       'Pump Suction Temperature', 'Pump Thrust Bearing Temperature 1',\n",
              "       'Pump Thrust Bearing Temperature 2', 'Pump Radial Bearing Vibration'],\n",
              "      dtype='object')"
            ]
          },
          "metadata": {},
          "execution_count": 496
        }
      ]
    },
    {
      "cell_type": "markdown",
      "source": [
        "Adding and Dropping specific features to improve score"
      ],
      "metadata": {
        "id": "sUi66rBlpajS"
      }
    },
    {
      "cell_type": "code",
      "source": [
        "#df['Pump Journal Bearing Temperature'] = df['Pump Journal 1 Bearing Temperature'] + df['Pump Journal 2 Bearing Temperature']\n",
        "df['Total Heat Recovery System Header Mass Flow'] = df['Heat Recovery System Header Mass Flow'] + df['Heat Recovery System Header Mass Flow.1']\n",
        "df['Pump Suction Pressure'] = df['Pump Suction Pressure 1'] + df['Pump Suction Pressure 2']\n",
        "DF = df.drop(['Heat Recovery System Header Mass Flow','Heat Recovery System Header Mass Flow.1'],axis =1)\n"
      ],
      "metadata": {
        "id": "rI-HPfpJWuFx"
      },
      "execution_count": 497,
      "outputs": []
    },
    {
      "cell_type": "code",
      "source": [
        "DF.columns"
      ],
      "metadata": {
        "colab": {
          "base_uri": "https://localhost:8080/"
        },
        "id": "5XcM_EnZhNil",
        "outputId": "15ed943a-4106-444c-c166-c0d71f4fdc72"
      },
      "execution_count": 498,
      "outputs": [
        {
          "output_type": "execute_result",
          "data": {
            "text/plain": [
              "Index(['Auxiliary Boilers A/B Feed Water Header Pressure 2',\n",
              "       'Auxiliary Boilers Feed Water Header Pressure',\n",
              "       'Heat Recovery System Header Pressure',\n",
              "       'Heat Recovery System Header Pressure.1',\n",
              "       'Lube Oil Cooler Outlet Temperature', 'Lube Oil Tank Temperature',\n",
              "       'Motor Current Phase A', 'Motor Current Phase B',\n",
              "       'Motor Current Phase C', 'Motor Voltage', 'Pump Discharge Pressure',\n",
              "       'Pump Discharge Volumetric Flow', 'Pump Journal 1 Bearing Temperature',\n",
              "       'Pump Journal 2 Bearing Temperature', 'Pump Shaft Speed',\n",
              "       'Pump Suction Pressure 1', 'Pump Suction Pressure 2',\n",
              "       'Pump Suction Strainer Differential Pressure',\n",
              "       'Pump Suction Temperature', 'Pump Thrust Bearing Temperature 1',\n",
              "       'Pump Thrust Bearing Temperature 2', 'Pump Radial Bearing Vibration',\n",
              "       'Total Heat Recovery System Header Mass Flow', 'Pump Suction Pressure'],\n",
              "      dtype='object')"
            ]
          },
          "metadata": {},
          "execution_count": 498
        }
      ]
    },
    {
      "cell_type": "code",
      "source": [
        "#Predictor features\n",
        "X = DF.drop('Pump Radial Bearing Vibration',axis=1)\n",
        "#Feature to predict\n",
        "y = DF['Pump Radial Bearing Vibration']\n"
      ],
      "metadata": {
        "id": "U7uAwcqCbadD"
      },
      "execution_count": 499,
      "outputs": []
    },
    {
      "cell_type": "code",
      "source": [
        "X_train, X_test, y_train, y_test = train_test_split(X,y, train_size=0.8)\n",
        "\n",
        "print(X_train.shape), print(y_train.shape)\n",
        "\n",
        "print(X_test.shape), print(y_test.shape)"
      ],
      "metadata": {
        "colab": {
          "base_uri": "https://localhost:8080/"
        },
        "id": "lNUQK2S2bfaf",
        "outputId": "3a69c8f3-598a-4516-e894-b16002a482c6"
      },
      "execution_count": 500,
      "outputs": [
        {
          "output_type": "stream",
          "name": "stdout",
          "text": [
            "(8000, 23)\n",
            "(8000,)\n",
            "(2000, 23)\n",
            "(2000,)\n"
          ]
        },
        {
          "output_type": "execute_result",
          "data": {
            "text/plain": [
              "(None, None)"
            ]
          },
          "metadata": {},
          "execution_count": 500
        }
      ]
    },
    {
      "cell_type": "code",
      "source": [
        "model = LinearRegression()\n",
        "model.fit(X_train,y_train)\n",
        "pickle.dump(model, open(\"Basic_Linear_model.pkl\", 'wb'))\n",
        "\n",
        "\n",
        "score = model.score(X_train,y_train)\n",
        "# score returns the coefficient of determination of the prediction (i.e R²).\n",
        "score"
      ],
      "metadata": {
        "colab": {
          "base_uri": "https://localhost:8080/"
        },
        "id": "cWjspPI2bfeD",
        "outputId": "b6bc9ccd-7246-4eaf-f72f-8ccee1dd1768"
      },
      "execution_count": 501,
      "outputs": [
        {
          "output_type": "execute_result",
          "data": {
            "text/plain": [
              "0.6615749235956578"
            ]
          },
          "metadata": {},
          "execution_count": 501
        }
      ]
    },
    {
      "cell_type": "markdown",
      "source": [
        "##Feature Importance and Performance Check "
      ],
      "metadata": {
        "id": "UBXS2UrJDxbe"
      }
    },
    {
      "cell_type": "code",
      "source": [
        "# build initial model using all the features\n",
        "model = LinearRegression()\n",
        "# Setup the RFE selector\n",
        "\n",
        "sel = RecursiveFeatureElimination(\n",
        "    variables=None, # automatically evaluate all numerical variables\n",
        "    estimator = model, # the ML model\n",
        "    scoring = 'r2', # the metric we want to evalute\n",
        "    threshold = 0.001 , # the maximum performance drop allowed to remove a feature\n",
        "    cv=5, # cross-validation\n",
        ")\n",
        "\n",
        "# this may take quite a while, because\n",
        "# we are building a lot of models with cross-validation\n",
        "#x = df_all3.iloc[0:1460, :]\n",
        "\n",
        "sel.fit(X, y)"
      ],
      "metadata": {
        "colab": {
          "base_uri": "https://localhost:8080/"
        },
        "id": "2DwmjOEdsNmQ",
        "outputId": "8e16625c-e5f7-4f6f-99ba-44dce90f9c98"
      },
      "execution_count": 466,
      "outputs": [
        {
          "output_type": "execute_result",
          "data": {
            "text/plain": [
              "RecursiveFeatureElimination(cv=5, estimator=LinearRegression(), scoring='r2',\n",
              "                            threshold=0.001)"
            ]
          },
          "metadata": {},
          "execution_count": 466
        }
      ]
    },
    {
      "cell_type": "code",
      "source": [
        "sel.feature_importances_.plot.bar(figsize=(20,6))\n",
        "plt.xlabel('Features')\n",
        "plt.ylabel('Importance')\n",
        "plt.show()"
      ],
      "metadata": {
        "colab": {
          "base_uri": "https://localhost:8080/",
          "height": 532
        },
        "id": "BpSGEspFsNpr",
        "outputId": "c87e358c-df26-4059-9ec7-a25955134227"
      },
      "execution_count": 467,
      "outputs": [
        {
          "output_type": "display_data",
          "data": {
            "text/plain": [
              "<Figure size 1440x432 with 1 Axes>"
            ],
            "image/png": "[encoded data removed]"
          },
          "metadata": {
            "needs_background": "light"
          }
        }
      ]
    },
    {
      "cell_type": "code",
      "source": [
        "pd.Series(sel.performance_drifts_).plot.bar(figsize=(20,6))\n",
        "plt.xlabel('Features')\n",
        "plt.ylabel('Performance change when feature was added')\n",
        "plt.show()"
      ],
      "metadata": {
        "colab": {
          "base_uri": "https://localhost:8080/",
          "height": 523
        },
        "id": "lJX7lwjJsYIH",
        "outputId": "e3f00bfe-bad3-4031-dd0c-da40dc74c767"
      },
      "execution_count": 468,
      "outputs": [
        {
          "output_type": "display_data",
          "data": {
            "text/plain": [
              "<Figure size 1440x432 with 1 Axes>"
            ],
            "image/png": "[encoded data removed]"
          },
          "metadata": {
            "needs_background": "light"
          }
        }
      ]
    },
    {
      "cell_type": "markdown",
      "source": [
        "Visualisations"
      ],
      "metadata": {
        "id": "yFpHur40xUy9"
      }
    },
    {
      "cell_type": "code",
      "source": [
        "import matplotlib.pyplot as plt\n",
        "plt.scatter(y_test,y_pred);\n",
        "plt.xlabel('Actual');\n",
        "plt.ylabel('Predicted');"
      ],
      "metadata": {
        "colab": {
          "base_uri": "https://localhost:8080/",
          "height": 279
        },
        "id": "hZ0laVyReXrS",
        "outputId": "7f8e99b1-8c18-473f-c270-6c846f05b47b"
      },
      "execution_count": 469,
      "outputs": [
        {
          "output_type": "display_data",
          "data": {
            "text/plain": [
              "<Figure size 432x288 with 1 Axes>"
            ],
            "image/png": "[encoded data removed]"
          },
          "metadata": {
            "needs_background": "light"
          }
        }
      ]
    },
    {
      "cell_type": "code",
      "source": [
        "import seaborn as sns\n",
        "sns.regplot(x=y_test,y=y_pred,ci=None,color ='red');"
      ],
      "metadata": {
        "colab": {
          "base_uri": "https://localhost:8080/",
          "height": 279
        },
        "id": "7VAfW_BleXu0",
        "outputId": "3e2201c2-413b-4e72-ab71-776bd184d90b"
      },
      "execution_count": 470,
      "outputs": [
        {
          "output_type": "display_data",
          "data": {
            "text/plain": [
              "<Figure size 432x288 with 1 Axes>"
            ],
            "image/png": "[encoded data removed]"
          },
          "metadata": {
            "needs_background": "light"
          }
        }
      ]
    },
    {
      "cell_type": "markdown",
      "source": [
        "##PCA (dimensionality reduction algorithm)"
      ],
      "metadata": {
        "id": "1lzFRZhkvXpO"
      }
    },
    {
      "cell_type": "code",
      "source": [
        "from sklearn.model_selection import RepeatedKFold, cross_val_score\n",
        "#Predictor features\n",
        "X = DF.drop('Pump Radial Bearing Vibration',axis=1)\n",
        "#Feature to predict\n",
        "y = DF['Pump Radial Bearing Vibration']\n",
        "\n",
        "\n",
        "pca = PCA(n_components=8)\n",
        "X_reduced = pca.fit_transform(scale(X))\n",
        "\n",
        "#define cross validation method\n",
        "cv = RepeatedKFold(n_splits=10, n_repeats=3, random_state=1)\n",
        "\n",
        "regr = LinearRegression()\n",
        "mse = []\n",
        "\n",
        "# Calculate MSE with only the intercept\n",
        "score = -1*cross_val_score(regr,\n",
        "           np.ones((len(X_reduced),1)), y, cv=cv,\n",
        "           scoring='neg_mean_squared_error').mean()    \n",
        "mse.append(score)\n",
        "print(score)\n",
        "# Calculate MSE using cross-validation, adding one component at a time\n",
        "for i in np.arange(1, 6):\n",
        "    score = -1*cross_val_score(regr,\n",
        "               X_reduced[:,:i], y, cv=cv, scoring='neg_mean_squared_error').mean()\n",
        "    mse.append(score)\n",
        "  \n",
        "    \n",
        "# Plot cross-validation results    \n",
        "plt.plot(mse)\n",
        "plt.xlabel('Number of Principal Components')\n",
        "plt.ylabel('MSE')\n",
        "plt.title('Centrifugal Pump')\n",
        "score"
      ],
      "metadata": {
        "colab": {
          "base_uri": "https://localhost:8080/",
          "height": 0
        },
        "id": "EMVmz38NQ1Ve",
        "outputId": "bf661f8e-ef67-4c11-933b-1463c09b01d2"
      },
      "execution_count": 471,
      "outputs": [
        {
          "output_type": "stream",
          "name": "stdout",
          "text": [
            "0.07414509951849099\n"
          ]
        },
        {
          "output_type": "execute_result",
          "data": {
            "text/plain": [
              "0.02633175805873624"
            ]
          },
          "metadata": {},
          "execution_count": 471
        },
        {
          "output_type": "display_data",
          "data": {
            "text/plain": [
              "<Figure size 432x288 with 1 Axes>"
            ],
            "image/png": "[encoded data removed]"
          },
          "metadata": {
            "needs_background": "light"
          }
        }
      ]
    },
    {
      "cell_type": "code",
      "source": [
        "mse"
      ],
      "metadata": {
        "colab": {
          "base_uri": "https://localhost:8080/"
        },
        "id": "un4qxPY5Fj2F",
        "outputId": "2909fb12-5c74-4444-b7c7-198c6c68e304"
      },
      "execution_count": 472,
      "outputs": [
        {
          "output_type": "execute_result",
          "data": {
            "text/plain": [
              "[0.07414509951849099,\n",
              " 0.028200385455671335,\n",
              " 0.02716028465821723,\n",
              " 0.02675206454800375,\n",
              " 0.026721598125417415,\n",
              " 0.02633175805873624]"
            ]
          },
          "metadata": {},
          "execution_count": 472
        }
      ]
    },
    {
      "cell_type": "code",
      "source": [
        "#This means 97.07% of the variance in data can be explained by 8 principal components (rather than 100% with 23 components)\n",
        "a =np.cumsum(np.round(pca.explained_variance_ratio_, decimals=4)*100)\n",
        "a"
      ],
      "metadata": {
        "colab": {
          "base_uri": "https://localhost:8080/"
        },
        "id": "l1CdExS9aP6c",
        "outputId": "356f7f03-0641-4a46-e1af-7205f69e61c0"
      },
      "execution_count": 473,
      "outputs": [
        {
          "output_type": "execute_result",
          "data": {
            "text/plain": [
              "array([40.53, 66.29, 75.79, 82.73, 89.16, 93.02, 95.34, 97.07])"
            ]
          },
          "metadata": {},
          "execution_count": 473
        }
      ]
    },
    {
      "cell_type": "markdown",
      "source": [
        "Building model for prediction score on reduced dataset (from PCA)"
      ],
      "metadata": {
        "id": "ZvmFUoYRwD3g"
      }
    },
    {
      "cell_type": "code",
      "source": [
        "from sklearn.metrics import mean_squared_error\n",
        "#split the dataset into training (70%) and testing (30%) sets\n",
        "X_train,X_test,y_train,y_test = train_test_split(X,y,test_size=0.3,random_state=0) \n",
        "\n",
        "#scale the training and testing data\n",
        "X_reduced_train = pca.fit_transform(scale(X_train))\n",
        "X_reduced_test = pca.transform(scale(X_test))[:,:1]\n",
        "\n",
        "#train PCR model on training data \n",
        "regr = LinearRegression()\n",
        "regr.fit(X_reduced_train[:,:1], y_train)\n",
        "score = regr.score(X_reduced_train[:,:1],y_train)\n",
        "\n",
        "#calculate Root Mean Squared Error (RMSE)\n",
        "pred = regr.predict(X_reduced_test)\n",
        "np.sqrt(mean_squared_error(y_test, pred))\n",
        "score"
      ],
      "metadata": {
        "colab": {
          "base_uri": "https://localhost:8080/"
        },
        "id": "TfhwItRuaP97",
        "outputId": "9208c2ef-4ebe-41d2-abd3-93d5844a9bf1"
      },
      "execution_count": 474,
      "outputs": [
        {
          "output_type": "execute_result",
          "data": {
            "text/plain": [
              "0.6106171679609298"
            ]
          },
          "metadata": {},
          "execution_count": 474
        }
      ]
    },
    {
      "cell_type": "markdown",
      "source": [
        "Visualisations after PCA"
      ],
      "metadata": {
        "id": "NoUfT2W1wcHO"
      }
    },
    {
      "cell_type": "code",
      "source": [
        "import matplotlib.pyplot as plt\n",
        "plt.scatter(y_test,pred);\n",
        "plt.xlabel('Actual');\n",
        "plt.ylabel('Predicted');"
      ],
      "metadata": {
        "colab": {
          "base_uri": "https://localhost:8080/",
          "height": 0
        },
        "id": "mnWNssMCdv4P",
        "outputId": "39ad12b6-637e-49be-8b38-a9b52be84a49"
      },
      "execution_count": 475,
      "outputs": [
        {
          "output_type": "display_data",
          "data": {
            "text/plain": [
              "<Figure size 432x288 with 1 Axes>"
            ],
            "image/png": "[encoded data removed]"
          },
          "metadata": {
            "needs_background": "light"
          }
        }
      ]
    },
    {
      "cell_type": "code",
      "source": [
        "import seaborn as sns\n",
        "sns.regplot(x=y_test,y=pred,ci=None,color ='red');"
      ],
      "metadata": {
        "colab": {
          "base_uri": "https://localhost:8080/",
          "height": 0
        },
        "id": "uXtC1qSmdv7r",
        "outputId": "de75f7c2-a4c1-42ac-f1f2-0bfe08601e81"
      },
      "execution_count": 476,
      "outputs": [
        {
          "output_type": "display_data",
          "data": {
            "text/plain": [
              "<Figure size 432x288 with 1 Axes>"
            ],
            "image/png": "[encoded data removed]"
          },
          "metadata": {
            "needs_background": "light"
          }
        }
      ]
    },
    {
      "cell_type": "code",
      "source": [
        ""
      ],
      "metadata": {
        "id": "h7BMmHOCwaH5"
      },
      "execution_count": 476,
      "outputs": []
    },
    {
      "cell_type": "code",
      "source": [
        ""
      ],
      "metadata": {
        "id": "VwS6GnZ3wztl"
      },
      "execution_count": 476,
      "outputs": []
    }
  ]
}